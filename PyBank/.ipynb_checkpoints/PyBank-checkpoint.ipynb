{
 "cells": [
  {
   "cell_type": "code",
   "execution_count": 1,
   "metadata": {},
   "outputs": [
    {
     "name": "stdout",
     "output_type": "stream",
     "text": [
      "FINANCIAL ANALYSIS\n",
      "-------------------\n",
      "Total \u001b[36mMonths:\u001b[m 86\n",
      "\u001b[36mTotal:\u001b[m             $38,382,578\n",
      "Average Change:    $    -2,315.1176\n",
      "Greatest Increase \u001b[35min\u001b[m \u001b[36mProfits:\u001b[m (Feb-2012)  $ 1,926,159\n",
      "Greatest Decrease \u001b[35min\u001b[m \u001b[36mProfits:\u001b[m (Sep-2013)  $-2,196,167\n"
     ]
    }
   ],
   "source": [
    "import os\n",
    "import csv\n",
    "import calendar\n",
    "from datetime import date\n",
    "\n",
    "\n",
    "#path_Budget=os.path.join(\"/Users/marian/desktop/budget_data.csv\")\n",
    "path_Budget=open(\"/Users/marian/desktop/budget_data1.csv\",\"r\")\n",
    "outBank=open(\"/Users/marian/desktop/PyBank.txt\",\"w\")\n",
    "\n",
    "#with open(path_Budget,\"r\",newline=\"\") as csvBudget:\n",
    "csvF_Budget=csv.reader(path_Budget,delimiter=\",\")\n",
    "next(csvF_Budget)\n",
    "rows=[r for r in csvF_Budget]\n",
    "\n",
    "newL=[]\n",
    "datex=[]\n",
    "###########################################################\n",
    "#I'm assuming the data does not come chronologically sorted, here in this module \n",
    "#I format the date to datetime object & the Profit/Losses to integer and \n",
    "#populate a new list with the formatted data.\n",
    "for i in range(0,len(rows)):\n",
    "    datex.append(rows[i][0].split(\"-\"))\n",
    "    month=int(list(calendar.month_abbr).index(datex[i][0]))\n",
    "    year=int(datex[i][1])\n",
    "    fechax=date(year,month,1)\n",
    "    ProLos=int(rows[i][1])\n",
    "    newL.append([fechax,ProLos])\n",
    "###########################################################\n",
    "#Here the file is sorted chronollogically, I did not want to use the \n",
    "#sort function, only to be able to do it by nesting loops\n",
    "for i in range(len(newL)):\n",
    "    for j in range(i + 1, len(newL)):\n",
    "        if newL[i] > newL[j]:\n",
    "            newL[i], newL[j] = newL[j], newL[i]\n",
    "##########################################################\n",
    "#after rearranging the list, turning the Profit/Losses into integers\n",
    "#the assignment is pretty much done!!!!!!\n",
    "#Here I populate a list with only \n",
    "Total=0\n",
    "Period_D=[]\n",
    "diff=0\n",
    "for z in range(0,len(newL)-1):\n",
    "    Total=Total+newL[z][1]\n",
    "    Period_D.append(newL[z+1][1]-newL[z][1])\n",
    "Grea_Inc=max(Period_D)\n",
    "indexI=Period_D.index(Grea_Inc)\n",
    "Grea_Dec=min(Period_D)\n",
    "indexD=Period_D.index(Grea_Dec)\n",
    "Average=sum(Period_D)/len(Period_D)\n",
    "Total=Total+newL[len(newL)-1][1]\n",
    "##########################################################    \n",
    "diff=(newL[len(newL)-1][0].year-newL[0][0].year)*12+newL[len(newL)-1][0].month  #-newL[0][0].month\n",
    "print(\"FINANCIAL ANALYSIS\")\n",
    "print(\"-------------------\")\n",
    "print(\"Total\"+\" \\033[36mMonths:\\033[m \"+\"{:}\".format(diff))\n",
    "print(\"\\033[36mTotal:\\033[m             \"+\"${:,}\".format(Total))\n",
    "print(\"Average Change:    \"+\"$    {:,}\".format(round(Average,4)))\n",
    "print(\"Greatest Increase\"+\" \\033[35min\\033[m\"+\" \\033[36mProfits:\\033[m\"+\" ({:})  $ {:,}\"\\\n",
    "      .format(newL[indexI+1][0].strftime(\"%b-%Y\"),Grea_Inc))\n",
    "print(\"Greatest Decrease\"+\" \\033[35min\\033[m\"+\" \\033[36mProfits:\\033[m\"+\" ({:})  ${:,}\"\\\n",
    "      .format(newL[indexD+1][0].strftime(\"%b-%Y\"),Grea_Dec)) \n",
    "\n",
    "\n",
    "outBank.write(\"FINANCIAL ANALYSIS\"+os.linesep)\n",
    "outBank.write(\"-------------------\"+os.linesep)\n",
    "outBank.write(\"Total \"+\"Months: \"+\"{:}\".format(diff)+os.linesep)\n",
    "outBank.write(\"Total:             \"+\"${:,}\".format(Total)+os.linesep)\n",
    "outBank.write(\"Average Change:    \"+\"$    {:,}\".format(round(Average,4))+os.linesep)\n",
    "outBank.write(\"Greatest Increase \"+\"in \"+\"Profits: \"+\" ({:})  $ {:,}\"\\\n",
    "      .format(newL[indexI+1][0].strftime(\"%b-%Y\"),Grea_Inc)+os.linesep)\n",
    "outBank.write(\"Greatest Decrease \"+\"in \"+\"Profits: \"+\" ({:})  $ {:,}\"\\\n",
    "      .format(newL[indexD+1][0].strftime(\"%b-%Y\"),Grea_Inc)+os.linesep)\n",
    "\n",
    "outBank.close()"
   ]
  },
  {
   "cell_type": "code",
   "execution_count": null,
   "metadata": {},
   "outputs": [],
   "source": []
  },
  {
   "cell_type": "code",
   "execution_count": null,
   "metadata": {},
   "outputs": [],
   "source": []
  },
  {
   "cell_type": "code",
   "execution_count": null,
   "metadata": {},
   "outputs": [],
   "source": []
  },
  {
   "cell_type": "code",
   "execution_count": null,
   "metadata": {},
   "outputs": [],
   "source": []
  }
 ],
 "metadata": {
  "kernelspec": {
   "display_name": "Python 3",
   "language": "python",
   "name": "python3"
  },
  "language_info": {
   "codemirror_mode": {
    "name": "ipython",
    "version": 3
   },
   "file_extension": ".py",
   "mimetype": "text/x-python",
   "name": "python",
   "nbconvert_exporter": "python",
   "pygments_lexer": "ipython3",
   "version": "3.7.3"
  }
 },
 "nbformat": 4,
 "nbformat_minor": 2
}
