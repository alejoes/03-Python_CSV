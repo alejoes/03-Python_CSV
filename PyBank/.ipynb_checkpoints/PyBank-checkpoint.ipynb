{
 "cells": [
  {
   "cell_type": "code",
   "execution_count": null,
   "metadata": {},
   "outputs": [],
   "source": [
    "\n"
   ]
  },
  {
   "cell_type": "code",
   "execution_count": 35,
   "metadata": {},
   "outputs": [
    {
     "name": "stdout",
     "output_type": "stream",
     "text": [
      "1926159 -2196167 -2315.1176470588234 38382578\n",
      "2588 days, 0:00:00\n"
     ]
    }
   ],
   "source": [
    "import os\n",
    "import csv\n",
    "import calendar\n",
    "from datetime import date\n",
    "\n",
    "\n",
    "#path_Budget=os.path.join(\"/Users/marian/desktop/budget_data.csv\")\n",
    "path_Budget=open(\"/Users/marian/desktop/budget_data.csv\",\"r\")\n",
    "\n",
    "#with open(path_Budget,\"r\",newline=\"\") as csvBudget:\n",
    "csvF_Budget=csv.reader(path_Budget,delimiter=\",\")\n",
    "next(csvF_Budget)\n",
    "rows=[r for r in csvF_Budget]\n",
    "\n",
    "newL=[]\n",
    "datex=[]\n",
    "###########################################################\n",
    "#I'm assuming the data does not come chronologically sorted, here in this module \n",
    "#I format the date to datetime object & the Profit/Losses to integer and \n",
    "#populate a new list with the formatted data.\n",
    "for i in range(0,len(rows)):\n",
    "    datex.append(rows[i][0].split(\"-\"))\n",
    "    month=int(list(calendar.month_abbr).index(datex[i][0]))\n",
    "    year=int(datex[i][1])\n",
    "    fechax=date(year,month,1)\n",
    "    ProLos=int(rows[i][1])\n",
    "    newL.append([fechax,ProLos])\n",
    "###########################################################\n",
    "#Here the file is sorted chronollogically, I did not want to use the \n",
    "#sort function, only to be able to do it by nesting loops\n",
    "for i in range(len(newL)):\n",
    "    for j in range(i + 1, len(newL)):\n",
    "        if newL[i] > newL[j]:\n",
    "            newL[i], newL[j] = newL[j], newL[i]\n",
    "##########################################################\n",
    "Total=0\n",
    "Period_D=[]\n",
    "for z in range(0,len(newL)-1):\n",
    "    Total=Total+newL[z][1]\n",
    "    Period_D.append(newL[z+1][1]-newL[z][1])\n",
    "Grea_Inc=max(Period_D)\n",
    "Grea_Dec=min(Period_D)\n",
    "Average=sum(Period_D)/len(Period_D)\n",
    "Total=Total+newL[len(newL)-1][1]\n",
    "##########################################################    \n",
    "\n",
    "print(Grea_Inc,Grea_Dec,Average,Total)    \n",
    "diff=newL[len(newL)-1][0]-newL[0][0]\n",
    "print(diff)\n"
   ]
  },
  {
   "cell_type": "code",
   "execution_count": null,
   "metadata": {},
   "outputs": [],
   "source": []
  },
  {
   "cell_type": "code",
   "execution_count": null,
   "metadata": {},
   "outputs": [],
   "source": []
  },
  {
   "cell_type": "code",
   "execution_count": null,
   "metadata": {},
   "outputs": [],
   "source": []
  },
  {
   "cell_type": "code",
   "execution_count": null,
   "metadata": {},
   "outputs": [],
   "source": []
  }
 ],
 "metadata": {
  "kernelspec": {
   "display_name": "Python 3",
   "language": "python",
   "name": "python3"
  },
  "language_info": {
   "codemirror_mode": {
    "name": "ipython",
    "version": 3
   },
   "file_extension": ".py",
   "mimetype": "text/x-python",
   "name": "python",
   "nbconvert_exporter": "python",
   "pygments_lexer": "ipython3",
   "version": "3.7.3"
  }
 },
 "nbformat": 4,
 "nbformat_minor": 2
}
