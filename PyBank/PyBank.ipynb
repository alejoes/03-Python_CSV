{
 "cells": [
  {
   "cell_type": "code",
   "execution_count": 80,
   "metadata": {},
   "outputs": [
    {
     "name": "stdout",
     "output_type": "stream",
     "text": [
      "1 [[datetime.date(2010, 1, 1), '867884'], [datetime.date(2010, 2, 1), '984655']]\n"
     ]
    }
   ],
   "source": [
    "import os\n",
    "import csv\n",
    "import calendar\n",
    "from datetime import date\n",
    "\n",
    "\n",
    "#path_Budget=os.path.join(\"/Users/marian/desktop/budget_data.csv\")\n",
    "path_Budget=open(\"/Users/marian/desktop/budget_data.csv\",\"r\")\n",
    "\n",
    "#with open(path_Budget,\"r\",newline=\"\") as csvBudget:\n",
    "csvF_Budget=csv.reader(path_Budget,delimiter=\",\")\n",
    "next(csvF_Budget)\n",
    "csvF_Budget=[one for one in csvF_Budget]\n",
    "column_count=len(csvF_Budget[0])\n",
    "row_count=sum(1 for row in csvF_Budget)\n",
    "\n",
    "\n",
    "NetT=0                                                        #formato(\"%y,%m,%d\")\n",
    "datex=[]  \n",
    "Old_date=date.today()\n",
    "Rec_date=date(2000,10,10)\n",
    "newlist=[]\n",
    "                                                        #Old_date=Old_date.strftime(formato)\n",
    "for j,row in enumerate(csvF_Budget):\n",
    "    datex.append(row[0].split(\"-\"))\n",
    "    month=int(list(calendar.month_abbr).index(datex[0][0]))\n",
    "    NetT=NetT+int(row[1])\n",
    "    ProLos=row[1]\n",
    "    year=int(datex[0][1])\n",
    "    datex=[]\n",
    "    fechax=date(year,month,1) \n",
    "    \n",
    "############################################## \n",
    "    if j==0:\n",
    "        newlist.append([fechax,ProLos]) \n",
    "    for i in range(0,len(newlist)): \n",
    "        if j==1 and i==0:\n",
    "            if fechax<newlist[i][0]:\n",
    "                newlist.insert(i,[fechax,ProLos])\n",
    "            else:\n",
    "                newlist.insert(i+1,[fechax,ProLos])\n",
    "        if j>1:\n",
    "            if fechax<newlist[i][0] and i<len(newlist):\n",
    "                newlist.insert(i,[fechax,ProLos])\n",
    "                break\n",
    "            #else:\n",
    "            #    newlist.insert(i,[fechax,ProLos])\n",
    "##############################################                \n",
    "      \n",
    "print(i,newlist)\n",
    "            \n",
    "                \n",
    "                                                #fechax=fecha.strftime(formato)                                                        \n",
    "#     if fechax<=Old_date:\n",
    "#         Old_date=fechax\n",
    "#     if fechax>=Rec_date:\n",
    "#         Rec_date=fechax\n",
    "\n",
    "        \n",
    "# diff=Rec_date-Old_date\n",
    "# print(diff)\n",
    "# print(NetT)\n",
    "\n",
    "                                                        #Old_int=list(map(int,Old_date.split(\"-\")))\n",
    "                                                        #Rec_int=list(map(int,Rec_date.split(\"-\")))\n",
    "                                                        #d1=date(Old_int[0],Old_int[1],Old_int[2])\n",
    "                                                        #d2=date(Rec_int[0],Rec_int[1],Rec_int[2])\n",
    "                                                        #diff=date(Rec_int[0],Rec_int[1],Rec_int[2])-date(Old_int[0],Old_int[1],Old_int[2])\n",
    "                                                        #print(diff)\n",
    "\n",
    "        \n",
    "\n"
   ]
  },
  {
   "cell_type": "code",
   "execution_count": null,
   "metadata": {},
   "outputs": [],
   "source": []
  },
  {
   "cell_type": "code",
   "execution_count": null,
   "metadata": {},
   "outputs": [],
   "source": []
  },
  {
   "cell_type": "code",
   "execution_count": null,
   "metadata": {},
   "outputs": [],
   "source": []
  },
  {
   "cell_type": "code",
   "execution_count": null,
   "metadata": {},
   "outputs": [],
   "source": []
  },
  {
   "cell_type": "code",
   "execution_count": null,
   "metadata": {},
   "outputs": [],
   "source": []
  }
 ],
 "metadata": {
  "kernelspec": {
   "display_name": "Python 3",
   "language": "python",
   "name": "python3"
  },
  "language_info": {
   "codemirror_mode": {
    "name": "ipython",
    "version": 3
   },
   "file_extension": ".py",
   "mimetype": "text/x-python",
   "name": "python",
   "nbconvert_exporter": "python",
   "pygments_lexer": "ipython3",
   "version": "3.7.3"
  }
 },
 "nbformat": 4,
 "nbformat_minor": 2
}
