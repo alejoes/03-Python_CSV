{
 "cells": [
  {
   "cell_type": "code",
   "execution_count": 8,
   "metadata": {},
   "outputs": [
    {
     "name": "stdout",
     "output_type": "stream",
     "text": [
      "\u001b[1;30mELECTION RESULTS\u001b[1;m\n",
      "--------------------\n",
      "Total Votes         3,521,001\n",
      "Khan:    63.0000%  (2,218,231)\n",
      "Correy:  20.0000%    (704,200)\n",
      "Li:      14.0000%    (492,940)\n",
      "O'Tooley: 3.0000%    (105,630)\n",
      "--------------------\n",
      "WINNER:  Khan\n"
     ]
    }
   ],
   "source": [
    "import csv\n",
    "import os\n",
    "path_Elec=open(\"/Users/marian/desktop/election_data.csv\",\"r\")\n",
    "outPoll=open(\"/Users/marian/desktop/PyPoll.txt\",\"w\")\n",
    "\n",
    "\n",
    "csvF_Elec=csv.reader(path_Elec,delimiter=\",\")\n",
    "next(csvF_Elec)\n",
    "rows=[r for r in csvF_Elec]\n",
    "\n",
    "khanV=0\n",
    "liV=0\n",
    "CorV=0\n",
    "OtooV=0\n",
    "unique_C=[]\n",
    "sequenc=[]\n",
    "VotesC=0\n",
    "\n",
    "for i in range(0,len(rows)):\n",
    "    sequenc.append(rows[i][2])\n",
    "for p in sequenc:\n",
    "    if p not in unique_C: \n",
    "        unique_C.append(p)\n",
    "unique_C.sort()\n",
    "for z in range(0,len(rows)):\n",
    "    if sequenc[z]==unique_C[0]:\n",
    "        CorV=CorV+1\n",
    "    elif sequenc[z]==unique_C[1]:\n",
    "        khanV=khanV+1\n",
    "    elif sequenc[z]==unique_C[2]:\n",
    "        liV=liV+1\n",
    "    else:\n",
    "        OtooV=OtooV+1\n",
    "VotesC=khanV+liV+CorV+OtooV  \n",
    "\n",
    "\n",
    "dictio={unique_C[0]:CorV,unique_C[1]:khanV,unique_C[2]:liV,unique_C[3]:OtooV}\n",
    "winner=max(dictio,key=dictio.get)\n",
    "\n",
    "print(\"\\033[1;30mELECTION RESULTS\\033[1;m\")\n",
    "print(\"--------------------\")\n",
    "print(\"Total Votes \"+\"        {0:,}\".format(VotesC))  \n",
    "print(\"Khan: \"+\"   {0:.4%}  ({1:,})\".format(round(khanV/VotesC,4),khanV))\n",
    "print(\"Correy: \"+\" {0:.4%}    ({1:,})\".format(round(CorV/VotesC,4),CorV))\n",
    "print(\"Li: \"+\"     {0:.4%}    ({1:,})\".format(round(liV/VotesC,4),liV))\n",
    "print(\"O'Tooley: \"+\"{0:.4%}    ({1:,})\".format(round(OtooV/VotesC,4),OtooV))\n",
    "print(\"--------------------\")\n",
    "print(\"WINNER: \",winner)\n",
    "\n",
    "outPoll.write(\"ELECTION RESULTS\"+os.linesep)\n",
    "outPoll.write(\"--------------------\"+os.linesep)\n",
    "outPoll.write(\"Total Votes \"+\"        {0:,}\".format(VotesC)+os.linesep)\n",
    "outPoll.write(\"Khan: \"+\"   {0:.4%}  ({1:,})\".format(round(khanV/VotesC,4),khanV)+os.linesep)\n",
    "outPoll.write(\"Correy: \"+\" {0:.4%}    ({1:,})\".format(round(CorV/VotesC,4),CorV)+os.linesep)\n",
    "outPoll.write(\"Li: \"+\"     {0:.4%}    ({1:,})\".format(round(liV/VotesC,4),liV)+os.linesep)\n",
    "outPoll.write(\"O'Tooley: \"+\"{0:.4%}    ({1:,})\".format(round(OtooV/VotesC,4),OtooV)+os.linesep)\n",
    "outPoll.write(\"--------------------\"+os.linesep)\n",
    "outPoll.write(\"WINNER: \"+\"{:}\".format(winner))\n",
    "\n",
    "outPoll.close()\n"
   ]
  },
  {
   "cell_type": "code",
   "execution_count": null,
   "metadata": {},
   "outputs": [],
   "source": []
  }
 ],
 "metadata": {
  "kernelspec": {
   "display_name": "Python 3",
   "language": "python",
   "name": "python3"
  },
  "language_info": {
   "codemirror_mode": {
    "name": "ipython",
    "version": 3
   },
   "file_extension": ".py",
   "mimetype": "text/x-python",
   "name": "python",
   "nbconvert_exporter": "python",
   "pygments_lexer": "ipython3",
   "version": "3.7.3"
  }
 },
 "nbformat": 4,
 "nbformat_minor": 2
}
