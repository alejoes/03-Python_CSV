{
 "cells": [
  {
   "cell_type": "code",
   "execution_count": 8,
   "metadata": {},
   "outputs": [
    {
     "name": "stdout",
     "output_type": "stream",
     "text": [
      "ELECTION RESULTS\n",
      "--------------------\n",
      "Total Votes 3521001\n",
      "Khan: 63.0 2218231\n",
      "Correy: 20.0 704200\n",
      "Li: 14.0 492940\n",
      "O'Tooley: 3.0 105630\n",
      "--------------------\n",
      "WINNER:  Khan\n"
     ]
    }
   ],
   "source": [
    "import csv\n",
    "import os\n",
    "path_Elec=open(\"/Users/marian/desktop/election_data.csv\",\"r\")\n",
    "\n",
    "csvF_Elec=csv.reader(path_Elec,delimiter=\",\")\n",
    "next(csvF_Elec)\n",
    "rows=[r for r in csvF_Elec]\n",
    "\n",
    "khanV=0\n",
    "liV=0\n",
    "CorV=0\n",
    "OtooV=0\n",
    "unique_C=[]\n",
    "sequenc=[]\n",
    "VotesC=0\n",
    "\n",
    "for i in range(0,len(rows)):\n",
    "    sequenc.append(rows[i][2])\n",
    "for p in sequenc:\n",
    "    if p not in unique_C: \n",
    "        unique_C.append(p)\n",
    "unique_C.sort()\n",
    "for z in range(0,len(rows)):\n",
    "    if sequenc[z]==unique_C[0]:\n",
    "        CorV=CorV+1\n",
    "    elif sequenc[z]==unique_C[1]:\n",
    "        khanV=khanV+1\n",
    "    elif sequenc[z]==unique_C[2]:\n",
    "        liV=liV+1\n",
    "    else:\n",
    "        OtooV=OtooV+1\n",
    "VotesC=khanV+liV+CorV+OtooV  \n",
    "\n",
    "\n",
    "dictio={unique_C[0]:CorV,unique_C[1]:khanV,unique_C[2]:liV,unique_C[3]:OtooV}\n",
    "winner=max(dictio,key=dictio.get)\n",
    "\n",
    "print(\"ELECTION RESULTS\")\n",
    "print(\"--------------------\")\n",
    "print(\"Total Votes\",VotesC)   \n",
    "print(\"Khan:\",round(khanV*100/VotesC,4),khanV)\n",
    "print(\"Correy:\",round(CorV*100/VotesC,4),CorV)\n",
    "print(\"Li:\",round(liV*100/VotesC,4),liV)\n",
    "print(\"O'Tooley:\",round(OtooV*100/VotesC,4),OtooV)\n",
    "print(\"--------------------\")\n",
    "print(\"WINNER: \",winner)"
   ]
  },
  {
   "cell_type": "code",
   "execution_count": null,
   "metadata": {},
   "outputs": [],
   "source": []
  }
 ],
 "metadata": {
  "kernelspec": {
   "display_name": "Python 3",
   "language": "python",
   "name": "python3"
  },
  "language_info": {
   "codemirror_mode": {
    "name": "ipython",
    "version": 3
   },
   "file_extension": ".py",
   "mimetype": "text/x-python",
   "name": "python",
   "nbconvert_exporter": "python",
   "pygments_lexer": "ipython3",
   "version": "3.7.3"
  }
 },
 "nbformat": 4,
 "nbformat_minor": 2
}
